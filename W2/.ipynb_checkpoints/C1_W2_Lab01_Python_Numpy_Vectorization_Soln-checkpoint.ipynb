{
 "cells": [
  {
   "cell_type": "markdown",
   "id": "d1fad3ec",
   "metadata": {},
   "source": [
    "# Goals\n",
    "- Review the features of numpy na python that are used in Course 1"
   ]
  },
  {
   "cell_type": "code",
   "execution_count": 3,
   "id": "e775561f",
   "metadata": {},
   "outputs": [],
   "source": [
    "import numpy as np\n",
    "import time"
   ]
  },
  {
   "cell_type": "markdown",
   "id": "b5bfa5c8",
   "metadata": {},
   "source": [
    "# Useful Reference \n",
    "- NumPy Documentation including a basic introduction: NumPy.org\n",
    "- A challenging feature topic: NumPy Broadcasting"
   ]
  },
  {
   "cell_type": "markdown",
   "id": "cfd7d52f",
   "metadata": {},
   "source": [
    "# Python and Numpy\n",
    "Python is the programming language we will be using in this course. It has a set of numeric data types and arithmetic operations. NumPy is a library that extends the base capabilities of python to add a richer data set including more numeric types, vectors, matrices, and many matrix functions. NumPy and python work together fairly seamlessly. Python arithmetic operators work on NumPy data types and many NumPy functions will accept python data types."
   ]
  },
  {
   "cell_type": "markdown",
   "id": "a25da8d0",
   "metadata": {},
   "source": [
    "# Vector\n",
    "# 3.1 Abstract\n",
    "Vectors, as you will use them in this course, are ordered arrays of numbers. In notation, vectors are denoted with lower case bold letters such as x. The elements of a vector are all the same type. A vector does not, for example, contain both characters and numbers. The number of elements in the array is often referred to as the dimension though mathematicians may prefer rank. The vector shown has a dimension of n. The elements of a vector can be referenced with an index. In math settings, indexes typically run from 1 to n. In computer science and these labs, indexing will typically run from 0 to n-1. In notation, elements of a vector, when referenced individually will indicate the index in a subscript, for example, the 0^th element, of the vector x is x0. Note, the x is not bold in this case\n",
    "\n",
    "# 3.2 Numpy Arrays\n",
    "NumPy's basic data structure is an indexable, n-dimensional array containing elements of the same type (dtype). Right away, you may notice we have overloaded the term 'dimension'. Above, it was the number of elements in the vector, here, dimension refers to the number of indexes of an array. A one-dimensional or 1-D array has one index. In Course 1, we will represent vectors as NumPy 1-D arrays.\n",
    "- 1-D array, shape (n): n elements indexed [0] through [n-1]\n",
    "\n",
    "# 3.3 Vector Creation\n",
    "Data creation routines in NumPy will generally have a first parameter which is the shape of the object. This can either be a single value for a 1-D result or a tuple (n,m,...) specifying the shape of the result. Below are examples of creating vectors using these routines"
   ]
  },
  {
   "cell_type": "code",
   "execution_count": 6,
   "id": "9d93b2c5",
   "metadata": {},
   "outputs": [
    {
     "name": "stdout",
     "output_type": "stream",
     "text": [
      "np.zeros(4):a=[0. 0. 0. 0.], a shape=(4,), a data type = float64\n",
      "np.zeros(4):a=[0. 0. 0. 0.], a shape=(4,), a data type = float64\n",
      "np.zeros(4):a=[0.70936132 0.49224833 0.78783667 0.79275273], a shape=(4,), a data type = float64\n"
     ]
    }
   ],
   "source": [
    "a = np.zeros(4); print(f\"np.zeros(4):a={a}, a shape={a.shape}, a data type = {a.dtype}\")\n",
    "a = np.zeros((4,)); print(f\"np.zeros(4):a={a}, a shape={a.shape}, a data type = {a.dtype}\")\n",
    "a =np.random.random_sample(4); print(f\"np.zeros(4):a={a}, a shape={a.shape}, a data type = {a.dtype}\")"
   ]
  },
  {
   "cell_type": "markdown",
   "id": "2ead79ed",
   "metadata": {},
   "source": [
    "Some data creation routines do not take a shape tuple"
   ]
  },
  {
   "cell_type": "code",
   "execution_count": 9,
   "id": "5c40d89d",
   "metadata": {},
   "outputs": [
    {
     "name": "stdout",
     "output_type": "stream",
     "text": [
      "np.zeros(4):a=[0 1 2 3], a shape=(4,), a data type = int32\n",
      "np.zeros(4):a=[0.02248313 0.72266481 0.06282772 0.85078608], a shape=(4,), a data type = float64\n"
     ]
    }
   ],
   "source": [
    "a = np.arange(4,); print(f\"np.zeros(4):a={a}, a shape={a.shape}, a data type = {a.dtype}\")\n",
    "a = np.random.rand(4); print(f\"np.zeros(4):a={a}, a shape={a.shape}, a data type = {a.dtype}\")"
   ]
  },
  {
   "cell_type": "code",
   "execution_count": null,
   "id": "05906b25",
   "metadata": {},
   "outputs": [],
   "source": []
  },
  {
   "cell_type": "markdown",
   "id": "6fb839d9",
   "metadata": {},
   "source": []
  }
 ],
 "metadata": {
  "kernelspec": {
   "display_name": "Python 3 (ipykernel)",
   "language": "python",
   "name": "python3"
  },
  "language_info": {
   "codemirror_mode": {
    "name": "ipython",
    "version": 3
   },
   "file_extension": ".py",
   "mimetype": "text/x-python",
   "name": "python",
   "nbconvert_exporter": "python",
   "pygments_lexer": "ipython3",
   "version": "3.9.13"
  }
 },
 "nbformat": 4,
 "nbformat_minor": 5
}
