{
 "cells": [
  {
   "cell_type": "markdown",
   "id": "d1fad3ec",
   "metadata": {},
   "source": [
    "# Goals\n",
    "- Review the features of numpy na python that are used in Course 1"
   ]
  },
  {
   "cell_type": "code",
   "execution_count": 2,
   "id": "e775561f",
   "metadata": {},
   "outputs": [],
   "source": [
    "import numpy as np\n",
    "import time"
   ]
  },
  {
   "cell_type": "markdown",
   "id": "f2209229",
   "metadata": {},
   "source": [
    "# Useful Reference \n",
    "- NumPy Documentation including a basic introduction: NumPy.org\n",
    "- A challenging feature topic: NumPy Broadcasting"
   ]
  },
  {
   "cell_type": "markdown",
   "id": "98e97a02",
   "metadata": {},
   "source": [
    "# Python and Numpy\n",
    "Python is the programming language we will be using in this course. It has a set of numeric data types and arithmetic operations. NumPy is a library that extends the base capabilities of python to add a richer data set including more numeric types, vectors, matrices, and many matrix functions. NumPy and python work together fairly seamlessly. Python arithmetic operators work on NumPy data types and many NumPy functions will accept python data types."
   ]
  },
  {
   "cell_type": "markdown",
   "id": "86444ed7",
   "metadata": {},
   "source": [
    "# Vector\n",
    "## 3.1 Abstract\n",
    "Vectors, as you will use them in this course, are ordered arrays of numbers. In notation, vectors are denoted with lower case bold letters such as x. The elements of a vector are all the same type. A vector does not, for example, contain both characters and numbers. The number of elements in the array is often referred to as the dimension though mathematicians may prefer rank. The vector shown has a dimension of n. The elements of a vector can be referenced with an index. In math settings, indexes typically run from 1 to n. In computer science and these labs, indexing will typically run from 0 to n-1. In notation, elements of a vector, when referenced individually will indicate the index in a subscript, for example, the 0^th element, of the vector x is x0. Note, the x is not bold in this case\n",
    "\n",
    "## 3.2 Numpy Arrays\n",
    "NumPy's basic data structure is an indexable, n-dimensional array containing elements of the same type (dtype). Right away, you may notice we have overloaded the term 'dimension'. Above, it was the number of elements in the vector, here, dimension refers to the number of indexes of an array. A one-dimensional or 1-D array has one index. In Course 1, we will represent vectors as NumPy 1-D arrays.\n",
    "- 1-D array, shape (n): n elements indexed [0] through [n-1]\n",
    "\n",
    "## 3.3 Vector Creation\n",
    "Data creation routines in NumPy will generally have a first parameter which is the shape of the object. This can either be a single value for a 1-D result or a tuple (n,m,...) specifying the shape of the result. Below are examples of creating vectors using these routines"
   ]
  },
  {
   "cell_type": "code",
   "execution_count": 6,
   "id": "9b28d51f",
   "metadata": {},
   "outputs": [
    {
     "name": "stdout",
     "output_type": "stream",
     "text": [
      "np.zeros(4):a=[0. 0. 0. 0.], a shape=(4,), a data type = float64\n",
      "np.zeros(4):a=[0. 0. 0. 0.], a shape=(4,), a data type = float64\n",
      "np.zeros(4):a=[0.70936132 0.49224833 0.78783667 0.79275273], a shape=(4,), a data type = float64\n"
     ]
    }
   ],
   "source": [
    "a = np.zeros(4); print(f\"np.zeros(4):a={a}, a shape={a.shape}, a data type = {a.dtype}\")\n",
    "a = np.zeros((4,)); print(f\"np.zeros(4):a={a}, a shape={a.shape}, a data type = {a.dtype}\")\n",
    "a =np.random.random_sample(4); print(f\"np.zeros(4):a={a}, a shape={a.shape}, a data type = {a.dtype}\")"
   ]
  },
  {
   "cell_type": "markdown",
   "id": "1bd6b27c",
   "metadata": {},
   "source": [
    "Some data creation routines do not take a shape tuple"
   ]
  },
  {
   "cell_type": "code",
   "execution_count": 9,
   "id": "9daca188",
   "metadata": {},
   "outputs": [
    {
     "name": "stdout",
     "output_type": "stream",
     "text": [
      "np.zeros(4):a=[0 1 2 3], a shape=(4,), a data type = int32\n",
      "np.zeros(4):a=[0.02248313 0.72266481 0.06282772 0.85078608], a shape=(4,), a data type = float64\n"
     ]
    }
   ],
   "source": [
    "a = np.arange(4,); print(f\"np.zeros(4):a={a}, a shape={a.shape}, a data type = {a.dtype}\")\n",
    "a = np.random.rand(4); print(f\"np.zeros(4):a={a}, a shape={a.shape}, a data type = {a.dtype}\")"
   ]
  },
  {
   "cell_type": "markdown",
   "id": "8486af22",
   "metadata": {},
   "source": [
    "values can be specified manually as well"
   ]
  },
  {
   "cell_type": "code",
   "execution_count": 11,
   "id": "3de5cd38",
   "metadata": {},
   "outputs": [
    {
     "name": "stdout",
     "output_type": "stream",
     "text": [
      "np.zeros(4):a=[5 4 3 2], a shape=(4,), a data type = int32\n",
      "np.zeros(4):a=[5. 4. 3. 2.], a shape=(4,), a data type = float64\n"
     ]
    }
   ],
   "source": [
    "a = np.array([5,4,3,2]); print(f\"np.zeros(4):a={a}, a shape={a.shape}, a data type = {a.dtype}\")\n",
    "a = np.array([5.,4,3,2]); print(f\"np.zeros(4):a={a}, a shape={a.shape}, a data type = {a.dtype}\")"
   ]
  },
  {
   "cell_type": "markdown",
   "id": "78035e55",
   "metadata": {},
   "source": [
    "# 3.4 Operations on Vectors\n",
    "## 3.4.1 Indexing\n",
    "Elements of vectors can be accessed via indexing and slicing. NumPy provides a very complete set of indexing and slicing capabilities. We will explore only the basics needed for the course here. Reference Slicing and Indexing for more details.\n",
    "Indexing means referring to an element of an array by its position within the array.\n",
    "Slicing means getting a subset of elements from an array based on their indices.\n",
    "NumPy starts indexing at zero so the 3rd element of an vector a\n",
    " is a[2]"
   ]
  },
  {
   "cell_type": "code",
   "execution_count": 14,
   "id": "a65ee3f4",
   "metadata": {},
   "outputs": [
    {
     "name": "stdout",
     "output_type": "stream",
     "text": [
      "[0 1 2 3 4 5 6 7 8 9]\n",
      "()\n",
      "9\n"
     ]
    }
   ],
   "source": [
    "#vector indexing operations on 1-D vectors\n",
    "a = np.arange(10); print(a)\n",
    "print(a[2].shape)\n",
    "print(a[-1])"
   ]
  },
  {
   "cell_type": "markdown",
   "id": "38af918a",
   "metadata": {},
   "source": [
    "## 3.4.2 Slicing\n",
    "Slicing creates an array of indices using a set of three values (start:stop:step). A subset of values is also valid. Its use is best explained by example:"
   ]
  },
  {
   "cell_type": "code",
   "execution_count": 15,
   "id": "3efcd0b7",
   "metadata": {},
   "outputs": [
    {
     "name": "stdout",
     "output_type": "stream",
     "text": [
      "[2 3 4 5 6]\n",
      "[2 4 6]\n",
      "[3 4 5 6 7 8 9]\n",
      "[0 1 2]\n"
     ]
    }
   ],
   "source": [
    "a = np.arange(10)\n",
    "print(a[2:7:1])\n",
    "print(a[2:7:2])\n",
    "print(a[3:])\n",
    "print(a[:3])"
   ]
  },
  {
   "cell_type": "markdown",
   "id": "a4273582",
   "metadata": {},
   "source": [
    "## Single vector operations\n",
    "There are a number of useful operations that involve operations on a single vector."
   ]
  },
  {
   "cell_type": "code",
   "execution_count": 17,
   "id": "233c6c80",
   "metadata": {},
   "outputs": [
    {
     "name": "stdout",
     "output_type": "stream",
     "text": [
      "[-1 -2 -3 -4]\n",
      "10\n",
      "2.5\n",
      "[ 1  4  9 16]\n"
     ]
    }
   ],
   "source": [
    "a = np.array([1,2,3,4])\n",
    "b = -a\n",
    "print(b)\n",
    "print(np.sum(a))\n",
    "print(np.mean(a))\n",
    "b = a**2\n",
    "print(b)"
   ]
  },
  {
   "cell_type": "markdown",
   "id": "5ae8c52e",
   "metadata": {},
   "source": [
    "## 3.4.4 Vector Vector element-wise operations\n"
   ]
  },
  {
   "cell_type": "code",
   "execution_count": 20,
   "id": "2586ed68",
   "metadata": {},
   "outputs": [
    {
     "ename": "SyntaxError",
     "evalue": "invalid syntax (3135573947.py, line 4)",
     "output_type": "error",
     "traceback": [
      "\u001b[1;36m  File \u001b[1;32m\"C:\\Users\\admin\\AppData\\Local\\Temp\\ipykernel_8576\\3135573947.py\"\u001b[1;36m, line \u001b[1;32m4\u001b[0m\n\u001b[1;33m    c = = np.array([1,2])\u001b[0m\n\u001b[1;37m        ^\u001b[0m\n\u001b[1;31mSyntaxError\u001b[0m\u001b[1;31m:\u001b[0m invalid syntax\n"
     ]
    }
   ],
   "source": [
    "a = np.array([1,2,3,4])\n",
    "b = np.array([-1,-2,3,4])\n",
    "print(a+b)\n",
    "c = = np.array([1,2])\n",
    "#print(a+c) # error"
   ]
  },
  {
   "cell_type": "markdown",
   "id": "709ebac8",
   "metadata": {},
   "source": [
    "## 3.4.5 Scalar Vector operations"
   ]
  },
  {
   "cell_type": "code",
   "execution_count": 21,
   "id": "c733e6e1",
   "metadata": {},
   "outputs": [
    {
     "name": "stdout",
     "output_type": "stream",
     "text": [
      "[ 5 10 15 20]\n"
     ]
    }
   ],
   "source": [
    "a =np.array([1,2,3,4])\n",
    "b = 5*a\n",
    "print(b)"
   ]
  },
  {
   "cell_type": "markdown",
   "id": "b6aa4a00",
   "metadata": {},
   "source": [
    "# 3.4.6 Vector Vector dot product \n",
    "This can make you calculate faster and more efficient"
   ]
  },
  {
   "cell_type": "code",
   "execution_count": 23,
   "id": "32ea9a5e",
   "metadata": {},
   "outputs": [],
   "source": [
    "def my_dot(a, b): \n",
    "    \"\"\"\n",
    "   Compute the dot product of two vectors\n",
    " \n",
    "    Args:\n",
    "      a (ndarray (n,)):  input vector \n",
    "      b (ndarray (n,)):  input vector with same dimension as a\n",
    "    \n",
    "    Returns:\n",
    "      x (scalar): \n",
    "    \"\"\"\n",
    "    x=0\n",
    "    for i in range(a.shape[0]):\n",
    "        x = x + a[i] * b[i]\n",
    "    return x"
   ]
  },
  {
   "cell_type": "code",
   "execution_count": 25,
   "id": "5f8d1646",
   "metadata": {},
   "outputs": [
    {
     "name": "stdout",
     "output_type": "stream",
     "text": [
      "0.9676716327667236\n",
      "105.42969870567322\n"
     ]
    }
   ],
   "source": [
    "np.random.seed(1)\n",
    "a = np.random.rand(100000000)\n",
    "b = np.random.rand(100000000)\n",
    "\n",
    "tic =time.time()\n",
    "c= np.dot(a,b)\n",
    "toc = time.time()\n",
    "print(toc-tic)\n",
    "\n",
    "tic = time.time()\n",
    "c = my_dot(a, b)\n",
    "toc = time.time()\n",
    "\n",
    "print(toc-tic)\n",
    "\n",
    "del(a); del(b) # remove these big arrays from memory"
   ]
  },
  {
   "cell_type": "markdown",
   "id": "52b5e9ae",
   "metadata": {},
   "source": [
    "## Vector Vector operations in Course 1"
   ]
  },
  {
   "cell_type": "code",
   "execution_count": 4,
   "id": "c5b6006d",
   "metadata": {},
   "outputs": [
    {
     "name": "stdout",
     "output_type": "stream",
     "text": [
      "(1,)\n",
      "(1,)\n",
      "()\n"
     ]
    }
   ],
   "source": [
    "X = np.array([[1], [2], [3], [4]])\n",
    "w = np.array([2])\n",
    "c = np.dot(X[1], w)\n",
    "\n",
    "print(X[1].shape)\n",
    "print(w.shape)\n",
    "print(c.shape)"
   ]
  },
  {
   "cell_type": "markdown",
   "id": "4c61f75d",
   "metadata": {},
   "source": [
    "## Matrix Creation "
   ]
  },
  {
   "cell_type": "code",
   "execution_count": 5,
   "id": "1f3e856e",
   "metadata": {},
   "outputs": [
    {
     "name": "stdout",
     "output_type": "stream",
     "text": [
      "(1, 5) [[0. 0. 0. 0. 0.]]\n"
     ]
    }
   ],
   "source": [
    "a =np.zeros((1, 5))\n",
    "print(a.shape, a)"
   ]
  },
  {
   "cell_type": "markdown",
   "id": "d6fc17a0",
   "metadata": {},
   "source": [
    "## Indexing "
   ]
  },
  {
   "cell_type": "code",
   "execution_count": 7,
   "id": "9ee487f0",
   "metadata": {},
   "outputs": [],
   "source": [
    "a =np.arange(6).reshape(-1, 2)"
   ]
  },
  {
   "cell_type": "markdown",
   "id": "0a91ef5d",
   "metadata": {},
   "source": [
    "## Slicing"
   ]
  },
  {
   "cell_type": "code",
   "execution_count": 8,
   "id": "6a501264",
   "metadata": {},
   "outputs": [
    {
     "name": "stdout",
     "output_type": "stream",
     "text": [
      "[[ 2  4  6]\n",
      " [12 14 16]]\n"
     ]
    }
   ],
   "source": [
    "a = np.arange(20).reshape(-1, 10)\n",
    "print(a[:,2:7:2])"
   ]
  },
  {
   "cell_type": "code",
   "execution_count": null,
   "id": "6a171398",
   "metadata": {},
   "outputs": [],
   "source": []
  }
 ],
 "metadata": {
  "kernelspec": {
   "display_name": "Python 3 (ipykernel)",
   "language": "python",
   "name": "python3"
  },
  "language_info": {
   "codemirror_mode": {
    "name": "ipython",
    "version": 3
   },
   "file_extension": ".py",
   "mimetype": "text/x-python",
   "name": "python",
   "nbconvert_exporter": "python",
   "pygments_lexer": "ipython3",
   "version": "3.9.13"
  }
 },
 "nbformat": 4,
 "nbformat_minor": 5
}
